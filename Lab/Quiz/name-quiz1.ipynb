# This is NOT ipynb file.
# I uploaded it just to illustrate that you can upload to this github repository
# Thanks!
